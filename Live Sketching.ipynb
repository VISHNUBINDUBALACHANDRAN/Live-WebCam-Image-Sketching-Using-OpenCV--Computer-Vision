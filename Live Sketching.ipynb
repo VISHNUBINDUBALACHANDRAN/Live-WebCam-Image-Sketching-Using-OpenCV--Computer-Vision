{
 "cells": [
  {
   "cell_type": "code",
   "execution_count": 2,
   "id": "e628ab6a",
   "metadata": {},
   "outputs": [],
   "source": [
    "import cv2\n",
    "import numpy as np"
   ]
  },
  {
   "cell_type": "code",
   "execution_count": 10,
   "id": "fd737200",
   "metadata": {},
   "outputs": [],
   "source": [
    "def imgsketch(img):\n",
    "    gray_img=cv2.cvtColor(img,cv2.COLOR_BGR2GRAY)\n",
    "    blr_img=cv2.GaussianBlur(gray_img,(5,5),0)\n",
    "    canny_edges=cv2.Canny(blr_img,10,70)\n",
    "    ret,mask=cv2.threshold(canny_edges,80,255,cv2.THRESH_BINARY_INV)\n",
    "    return mask\n",
    "\n",
    "#Connecting to web cam\n",
    "\n",
    "cap=cv2.VideoCapture(0)\n",
    "while True:\n",
    "    ret,frame=cap.read()\n",
    "    cv2.imshow(\"Live Sketching Expert\",imgsketch(frame))\n",
    "    if cv2.waitKey(1) & 0xFF ==ord('q'):  # next 3 commands are for closing video frame after pressing 'q'\n",
    "        break\n",
    "cap.release()\n",
    "cv2.destroyAllWindows()"
   ]
  }
 ],
 "metadata": {
  "kernelspec": {
   "display_name": "Python 3",
   "language": "python",
   "name": "python3"
  },
  "language_info": {
   "codemirror_mode": {
    "name": "ipython",
    "version": 3
   },
   "file_extension": ".py",
   "mimetype": "text/x-python",
   "name": "python",
   "nbconvert_exporter": "python",
   "pygments_lexer": "ipython3",
   "version": "3.8.8"
  }
 },
 "nbformat": 4,
 "nbformat_minor": 5
}
